{
  "nbformat": 4,
  "nbformat_minor": 0,
  "metadata": {
    "colab": {
      "provenance": []
    },
    "kernelspec": {
      "name": "python3",
      "display_name": "Python 3"
    },
    "language_info": {
      "name": "python"
    }
  },
  "cells": [
    {
      "cell_type": "markdown",
      "source": [
        "#ADS Assignment-1\n",
        "Name: Naveen Kumar.S\n",
        "\n",
        "Reg No: 20MIS0001\n",
        "\n",
        "Gmail: naveenkumar.s2020a@vitstudent.ac.in"
      ],
      "metadata": {
        "id": "fIcjyMr4RHsi"
      }
    },
    {
      "cell_type": "markdown",
      "source": [
        "#Qn: 1.Assign your Name to variable name and Age to variable age. Make a Python program that prints your name and age.\n"
      ],
      "metadata": {
        "id": "UCx2YPwpRrXI"
      }
    },
    {
      "cell_type": "code",
      "execution_count": null,
      "metadata": {
        "colab": {
          "base_uri": "https://localhost:8080/"
        },
        "id": "pzxCW3LYQwkf",
        "outputId": "2533d831-2a76-4837-df77-8193bb15262d"
      },
      "outputs": [
        {
          "output_type": "stream",
          "name": "stdout",
          "text": [
            "Hi, My name is Naveen Kumar.By the way, Age is just a number and My age is 20.\n"
          ]
        }
      ],
      "source": [
        "name = 'Naveen Kumar'\n",
        "age = 20\n",
        "print(f'Hi, My name is {name}.By the way, Age is just a number and My age is {age}.')"
      ]
    },
    {
      "cell_type": "markdown",
      "source": [
        "#Qn: 2.X=\"Datascience is used to extract meaningful insights.\" Split the string."
      ],
      "metadata": {
        "id": "aoDIGmO2TFSV"
      }
    },
    {
      "cell_type": "code",
      "source": [
        "x=\"Datascience is used to extract meaningful insights.\"\n",
        "print(x.split())"
      ],
      "metadata": {
        "colab": {
          "base_uri": "https://localhost:8080/"
        },
        "id": "UDwKbG7JRGC5",
        "outputId": "0d73b3e6-3931-444a-84bf-0b53a52f2535"
      },
      "execution_count": null,
      "outputs": [
        {
          "output_type": "stream",
          "name": "stdout",
          "text": [
            "['Datascience', 'is', 'used', 'to', 'extract', 'meaningful', 'insights.']\n"
          ]
        }
      ]
    },
    {
      "cell_type": "markdown",
      "source": [
        "#Qn: 3.Make a function that gives multiplication of two numbers."
      ],
      "metadata": {
        "id": "6OgYep1WUnPG"
      }
    },
    {
      "cell_type": "code",
      "source": [
        "def multiply(a,b):\n",
        "  return f'The Multiplication of the given two numbers {a} and {b} is {a*b}.'\n",
        "a = int(input('Enter the first number a = '))\n",
        "b = int(input('Enter the second number to be multiplied with a that is b = '))\n",
        "print(multiply(a,b))"
      ],
      "metadata": {
        "colab": {
          "base_uri": "https://localhost:8080/"
        },
        "id": "YE1YTO_ORGMA",
        "outputId": "8b3b4ad5-a669-4a51-e694-e083117c6430"
      },
      "execution_count": null,
      "outputs": [
        {
          "output_type": "stream",
          "name": "stdout",
          "text": [
            "Enter the first number a = 3\n",
            "Enter the second number to be multiplied with a that is b = 3\n",
            "The Multiplication of the given two numbers 3 and 3 is 9.\n"
          ]
        }
      ]
    },
    {
      "cell_type": "markdown",
      "source": [
        "#Qn: 4. Create a Dictionary of 5 States with their capitals. Also print the keys and values."
      ],
      "metadata": {
        "id": "BfIgpdIeXRf3"
      }
    },
    {
      "cell_type": "code",
      "source": [
        "state_capitals = {'Maharashtra': 'Mumbai',\n",
        "'Karnataka': 'Bengaluru',\n",
        "'Tamil Nadu': 'Chennai',\n",
        "'Rajasthan': 'Jaipur',\n",
        "'Kerala': 'Thiruvananthapuram'}\n",
        "print(state_capitals)"
      ],
      "metadata": {
        "colab": {
          "base_uri": "https://localhost:8080/"
        },
        "id": "JCHDsBU6RGOi",
        "outputId": "ae147050-6c0e-43c5-d077-d32a64c860b7"
      },
      "execution_count": null,
      "outputs": [
        {
          "output_type": "stream",
          "name": "stdout",
          "text": [
            "{'Maharashtra': 'Mumbai', 'Karnataka': 'Bengaluru', 'Tamil Nadu': 'Chennai', 'Rajasthan': 'Jaipur', 'Kerala': 'Thiruvananthapuram'}\n"
          ]
        }
      ]
    },
    {
      "cell_type": "markdown",
      "source": [
        "#Qn: 5. Create a list of 1000 numbers using range function."
      ],
      "metadata": {
        "id": "yz8Fjh7nYgvQ"
      }
    },
    {
      "cell_type": "code",
      "source": [
        "numbers_list = list(range(1000))\n",
        "print(numbers_list[990:])"
      ],
      "metadata": {
        "colab": {
          "base_uri": "https://localhost:8080/"
        },
        "id": "hIYtm8fuRGQ4",
        "outputId": "a40c26f9-6c3b-4367-f220-b892f6f138a2"
      },
      "execution_count": null,
      "outputs": [
        {
          "output_type": "stream",
          "name": "stdout",
          "text": [
            "[990, 991, 992, 993, 994, 995, 996, 997, 998, 999]\n"
          ]
        }
      ]
    },
    {
      "cell_type": "markdown",
      "source": [
        "#Qn: 6.Create an identity matrix of dimension 4 by 4."
      ],
      "metadata": {
        "id": "_TQC0iHHbMsI"
      }
    },
    {
      "cell_type": "code",
      "source": [
        "import numpy as np\n",
        "matrix = np.eye(4)\n",
        "print(matrix)"
      ],
      "metadata": {
        "colab": {
          "base_uri": "https://localhost:8080/"
        },
        "id": "KPvTXA50aBy9",
        "outputId": "cedbb62f-c720-41c3-e92b-4864fa106668"
      },
      "execution_count": null,
      "outputs": [
        {
          "output_type": "stream",
          "name": "stdout",
          "text": [
            "[[1. 0. 0. 0.]\n",
            " [0. 1. 0. 0.]\n",
            " [0. 0. 1. 0.]\n",
            " [0. 0. 0. 1.]]\n"
          ]
        }
      ]
    },
    {
      "cell_type": "markdown",
      "source": [
        "#Qn: 7.  Create a 3x3 matrix with values ranging from 1 to 9."
      ],
      "metadata": {
        "id": "W1t3UsCXbqlA"
      }
    },
    {
      "cell_type": "code",
      "source": [
        "import numpy as np\n",
        "matrix1 = np.arange(1,10).reshape(3,3)\n",
        "print(matrix1)"
      ],
      "metadata": {
        "colab": {
          "base_uri": "https://localhost:8080/"
        },
        "id": "feqs5pncblG4",
        "outputId": "16fbea1e-542d-4d6e-adcc-9a05a572ca45"
      },
      "execution_count": null,
      "outputs": [
        {
          "output_type": "stream",
          "name": "stdout",
          "text": [
            "[[1 2 3]\n",
            " [4 5 6]\n",
            " [7 8 9]]\n"
          ]
        }
      ]
    },
    {
      "cell_type": "markdown",
      "source": [
        "#Qn: 8. Create 2 similar dimensional array and perform sum on them."
      ],
      "metadata": {
        "id": "cfE308ZVdiZg"
      }
    },
    {
      "cell_type": "code",
      "source": [
        "import numpy as np\n",
        "array1 = np.arange(10).reshape(2,5)\n",
        "array2 = np.arange(10).reshape(2,5)\n",
        "sum = array1 + array2\n",
        "print(sum)\n"
      ],
      "metadata": {
        "colab": {
          "base_uri": "https://localhost:8080/"
        },
        "id": "siKukWWVcoiG",
        "outputId": "8630e50c-2d89-4f77-fa9a-f23fd01b3397"
      },
      "execution_count": null,
      "outputs": [
        {
          "output_type": "stream",
          "name": "stdout",
          "text": [
            "[[ 0  2  4  6  8]\n",
            " [10 12 14 16 18]]\n"
          ]
        }
      ]
    },
    {
      "cell_type": "markdown",
      "source": [
        "#Qn: 9. Generate the series of dates from 1st Feb, 2023 to 1st March, 2023 (both inclusive)."
      ],
      "metadata": {
        "id": "Pr1Bf_Zcegzg"
      }
    },
    {
      "cell_type": "code",
      "source": [
        "import pandas as pd\n",
        "dates = pd.date_range(start='2023-02-01',end='2023-03-01')\n",
        "print(dates)"
      ],
      "metadata": {
        "colab": {
          "base_uri": "https://localhost:8080/"
        },
        "id": "eI7xbucSecBU",
        "outputId": "bc0f9e79-d223-4557-b0a4-8179ed32cfc9"
      },
      "execution_count": null,
      "outputs": [
        {
          "output_type": "stream",
          "name": "stdout",
          "text": [
            "DatetimeIndex(['2023-02-01', '2023-02-02', '2023-02-03', '2023-02-04',\n",
            "               '2023-02-05', '2023-02-06', '2023-02-07', '2023-02-08',\n",
            "               '2023-02-09', '2023-02-10', '2023-02-11', '2023-02-12',\n",
            "               '2023-02-13', '2023-02-14', '2023-02-15', '2023-02-16',\n",
            "               '2023-02-17', '2023-02-18', '2023-02-19', '2023-02-20',\n",
            "               '2023-02-21', '2023-02-22', '2023-02-23', '2023-02-24',\n",
            "               '2023-02-25', '2023-02-26', '2023-02-27', '2023-02-28',\n",
            "               '2023-03-01'],\n",
            "              dtype='datetime64[ns]', freq='D')\n"
          ]
        }
      ]
    },
    {
      "cell_type": "markdown",
      "source": [
        "#Qn : 10.  Given a dictionary, convert it into corresponding dataframe and display it, dictionary = {'Brand': ['Maruti', 'Renault', 'Hyndai'], 'Sales' : [250, 200, 240]}"
      ],
      "metadata": {
        "id": "JDJpg9vdiMVC"
      }
    },
    {
      "cell_type": "code",
      "source": [
        "import pandas as pd\n",
        "dictionary = {\n",
        "    'Brand': ['Maruti','Renault','Hyndai'],\n",
        "    'Sales': [250,200,240]\n",
        "              }\n",
        "dictionary_data = pd.DataFrame(dictionary)\n",
        "print(dictionary_data)"
      ],
      "metadata": {
        "colab": {
          "base_uri": "https://localhost:8080/"
        },
        "id": "UWgZXcM7g6lH",
        "outputId": "4427c949-8bc6-4eb9-bfd6-905264d64aad"
      },
      "execution_count": null,
      "outputs": [
        {
          "output_type": "stream",
          "name": "stdout",
          "text": [
            "     Brand  Sales\n",
            "0   Maruti    250\n",
            "1  Renault    200\n",
            "2   Hyndai    240\n"
          ]
        }
      ]
    },
    {
      "cell_type": "code",
      "source": [],
      "metadata": {
        "id": "rWvgYcyxjQs9"
      },
      "execution_count": null,
      "outputs": []
    }
  ]
}